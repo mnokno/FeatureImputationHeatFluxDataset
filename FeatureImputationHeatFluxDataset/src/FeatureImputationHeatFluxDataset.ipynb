{
 "cells": [
  {
   "cell_type": "markdown",
   "id": "cbf76485",
   "metadata": {
    "papermill": {
     "duration": 0.013225,
     "end_time": "2023-05-21T03:07:20.237106",
     "exception": false,
     "start_time": "2023-05-21T03:07:20.223881",
     "status": "completed"
    },
    "tags": []
   },
   "source": [
    "# Imports"
   ]
  },
  {
   "cell_type": "code",
   "execution_count": null,
   "id": "4cd6cb7e",
   "metadata": {
    "_kg_hide-input": true,
    "_kg_hide-output": true,
    "collapsed": false,
    "execution": {
     "iopub.execute_input": "2023-05-21T03:07:20.264620Z",
     "iopub.status.busy": "2023-05-21T03:07:20.263978Z",
     "iopub.status.idle": "2023-05-21T03:07:57.386252Z",
     "shell.execute_reply": "2023-05-21T03:07:57.385091Z"
    },
    "jupyter": {
     "outputs_hidden": false
    },
    "papermill": {
     "duration": 37.139018,
     "end_time": "2023-05-21T03:07:57.388981",
     "exception": false,
     "start_time": "2023-05-21T03:07:20.249963",
     "status": "completed"
    },
    "tags": []
   },
   "outputs": [],
   "source": [
    "try:\n",
    "    from fancyimpute import IterativeSVD\n",
    "    from fancyimpute import KNN\n",
    "    print(\"Library is already installed.\")\n",
    "except ImportError:\n",
    "    print(\"Library is not installed. Proceed with installation.\")\n",
    "    !pip install fancyimpute\n",
    "    from fancyimpute import IterativeSVD\n",
    "    from fancyimpute import KNN\n",
    "\n",
    "import os\n",
    "import pandas as pd\n",
    "import numpy as np\n",
    "import matplotlib.pyplot as plt\n",
    "import seaborn as sns\n",
    "from sklearn.preprocessing import LabelEncoder\n",
    "from sklearn.preprocessing import OneHotEncoder\n",
    "import xgboost as xgb\n",
    "import lightgbm as lgb\n",
    "from catboost import CatBoostRegressor\n",
    "from sklearn.model_selection import KFold\n",
    "from sklearn.metrics import mean_absolute_error\n",
    "from scipy.optimize import minimize\n",
    "import optuna\n",
    "from sklearn.metrics import mean_absolute_error\n",
    "from sklearn.metrics import mean_squared_error\n",
    "from sklearn.model_selection import train_test_split\n",
    "from sklearn.ensemble import RandomForestRegressor\n",
    "from sklearn.preprocessing import StandardScaler\n",
    "from sklearn.impute import KNNImputer\n",
    "import re\n",
    "\n",
    "import warnings\n",
    "warnings.filterwarnings(\"ignore\", category=UserWarning, message=\"'verbose' argument is deprecated.*\")"
   ]
  },
  {
   "cell_type": "markdown",
   "id": "64ae4ef5",
   "metadata": {
    "_kg_hide-input": true,
    "papermill": {
     "duration": 0.018153,
     "end_time": "2023-05-21T03:07:57.426168",
     "exception": false,
     "start_time": "2023-05-21T03:07:57.408015",
     "status": "completed"
    },
    "tags": []
   },
   "source": [
    "### Path management"
   ]
  },
  {
   "cell_type": "code",
   "execution_count": null,
   "id": "9902aea4",
   "metadata": {
    "_kg_hide-input": true,
    "collapsed": false,
    "execution": {
     "iopub.execute_input": "2023-05-21T03:07:57.465354Z",
     "iopub.status.busy": "2023-05-21T03:07:57.464421Z",
     "iopub.status.idle": "2023-05-21T03:07:57.470269Z",
     "shell.execute_reply": "2023-05-21T03:07:57.469292Z"
    },
    "jupyter": {
     "outputs_hidden": false
    },
    "papermill": {
     "duration": 0.027621,
     "end_time": "2023-05-21T03:07:57.472292",
     "exception": false,
     "start_time": "2023-05-21T03:07:57.444671",
     "status": "completed"
    },
    "tags": []
   },
   "outputs": [],
   "source": [
    "base: str\n",
    "if os.getcwd() == \"/kaggle/working\":\n",
    "    base = \"/kaggle\"\n",
    "else:\n",
    "    base = os.path.join(os.getcwd())\n",
    "\n",
    "def get_full_dir(sub_dir: str) -> str:\n",
    "    return os.path.join(base, sub_dir)"
   ]
  },
  {
   "cell_type": "markdown",
   "id": "428b4749",
   "metadata": {
    "papermill": {
     "duration": 0.018074,
     "end_time": "2023-05-21T03:07:57.508789",
     "exception": false,
     "start_time": "2023-05-21T03:07:57.490715",
     "status": "completed"
    },
    "tags": []
   },
   "source": [
    "# EDA"
   ]
  },
  {
   "cell_type": "code",
   "execution_count": null,
   "id": "0218c728",
   "metadata": {
    "collapsed": false,
    "execution": {
     "iopub.execute_input": "2023-05-21T03:07:57.547658Z",
     "iopub.status.busy": "2023-05-21T03:07:57.547298Z",
     "iopub.status.idle": "2023-05-21T03:07:57.645862Z",
     "shell.execute_reply": "2023-05-21T03:07:57.645066Z"
    },
    "jupyter": {
     "outputs_hidden": false
    },
    "papermill": {
     "duration": 0.120988,
     "end_time": "2023-05-21T03:07:57.648230",
     "exception": false,
     "start_time": "2023-05-21T03:07:57.527242",
     "status": "completed"
    },
    "tags": []
   },
   "outputs": [],
   "source": [
    "df_sample_submission: pd.DataFrame = pd.read_csv(get_full_dir('input/playground-series-s3e15/sample_submission.csv'))\n",
    "df_data: pd.DataFrame = pd.read_csv(get_full_dir('input/playground-series-s3e15/data.csv'), index_col='id')\n",
    "df_train = df_data[~df_data['x_e_out [-]'].isna()]\n",
    "df_test = df_data[df_data['x_e_out [-]'].isna()]\n",
    "df_og: pd.DataFrame = pd.read_csv(get_full_dir('input/predicting-heat-flux/Data_CHF_Zhao_2020_ATE.csv'), index_col='id')"
   ]
  },
  {
   "cell_type": "code",
   "execution_count": null,
   "outputs": [],
   "source": [
    "def remove_special_characters(column_name):\n",
    "    return re.sub(r\"[^a-zA-Z0-9_]+\", \"\", column_name)\n",
    "\n",
    "def remove_special_characters_from_dataframe(df):\n",
    "    df.columns = [remove_special_characters(col) for col in df.columns]\n",
    "    return df"
   ],
   "metadata": {
    "collapsed": false
   }
  },
  {
   "cell_type": "code",
   "execution_count": null,
   "outputs": [],
   "source": [
    "df_data = remove_special_characters_from_dataframe(df_data)\n",
    "df_train = remove_special_characters_from_dataframe(df_train)\n",
    "df_test = remove_special_characters_from_dataframe(df_test)\n",
    "df_og = remove_special_characters_from_dataframe(df_og)"
   ],
   "metadata": {
    "collapsed": false
   }
  },
  {
   "cell_type": "code",
   "execution_count": null,
   "id": "cc8fc720",
   "metadata": {
    "collapsed": false,
    "execution": {
     "iopub.execute_input": "2023-05-21T03:07:57.687816Z",
     "iopub.status.busy": "2023-05-21T03:07:57.686838Z",
     "iopub.status.idle": "2023-05-21T03:07:57.708775Z",
     "shell.execute_reply": "2023-05-21T03:07:57.707696Z"
    },
    "jupyter": {
     "outputs_hidden": false
    },
    "papermill": {
     "duration": 0.043969,
     "end_time": "2023-05-21T03:07:57.711010",
     "exception": false,
     "start_time": "2023-05-21T03:07:57.667041",
     "status": "completed"
    },
    "tags": []
   },
   "outputs": [],
   "source": [
    "train = pd.DataFrame(df_train.isna().sum() * 100 / df_train.count())\n",
    "train['dataset'] = 'train'\n",
    "\n",
    "test = pd.DataFrame(df_test.isna().sum() * 100 / df_test.count())\n",
    "test['dataset'] = 'test'\n",
    "\n",
    "og = pd.DataFrame(df_og.isna().sum() * 100 / df_og.count())\n",
    "og['dataset'] = 'original'\n",
    "\n",
    "df_tmp = pd.concat([train, test, og], axis=0)\n",
    "df_tmp = df_tmp.replace(np.inf, 100)\n",
    "df_tmp = df_tmp.rename(columns={0: 'NaN Percentage %', 'dataset': 'Data Set'})\n",
    "df_tmp['Column'] = df_tmp.index"
   ]
  },
  {
   "cell_type": "code",
   "execution_count": 28,
   "outputs": [
    {
     "data": {
      "text/plain": "[]"
     },
     "execution_count": 28,
     "metadata": {},
     "output_type": "execute_result"
    },
    {
     "data": {
      "text/plain": "<Figure size 2000x600 with 1 Axes>",
      "image/png": "[encoded data removed]"
     },
     "metadata": {},
     "output_type": "display_data"
    }
   ],
   "source": [
    "plt.figure(figsize=(20, 6))\n",
    "ax = sns.barplot(data=df_tmp, y='NaN Percentage %', x=\"Column\", hue=\"Data Set\", orient='v')\n",
    "ax.set_xticklabels(ax.get_xticklabels(), rotation=90)\n",
    "for p in ax.patches:\n",
    "    ax.annotate(format(p.get_height(), '.0f') + '%',\n",
    "                (p.get_x() + p.get_width() / 2., p.get_height()),\n",
    "                ha = 'center', va = 'center',\n",
    "                xytext = (0, 5),\n",
    "                textcoords = 'offset points')\n",
    "plt.xlabel('Column', fontsize=16)\n",
    "plt.ylabel('NaN Percentage ', fontsize=16)\n",
    "ax.legend(fontsize=16)\n",
    "plt.title('Percentage of Missing Values per Column', fontsize=20)\n",
    "plt.plot()"
   ],
   "metadata": {
    "collapsed": false
   }
  },
  {
   "cell_type": "markdown",
   "id": "a5b7f9c0",
   "metadata": {
    "papermill": {
     "duration": 0.018565,
     "end_time": "2023-05-21T03:07:57.798168",
     "exception": false,
     "start_time": "2023-05-21T03:07:57.779603",
     "status": "completed"
    },
    "tags": []
   },
   "source": [
    "##### Our training data contains lots of missing values, we could impute them using a very simple strategy like mean or median however this will likely result is poor model quality due to the about of missing value. Instead, we can also predict what value the missing value should have based off the other non-null value in these columns."
   ]
  },
  {
   "cell_type": "code",
   "execution_count": null,
   "id": "8b9a4e22",
   "metadata": {
    "collapsed": false,
    "execution": {
     "iopub.execute_input": "2023-05-21T03:07:57.837566Z",
     "iopub.status.busy": "2023-05-21T03:07:57.836861Z",
     "iopub.status.idle": "2023-05-21T03:07:57.858267Z",
     "shell.execute_reply": "2023-05-21T03:07:57.857265Z"
    },
    "jupyter": {
     "outputs_hidden": false
    },
    "papermill": {
     "duration": 0.043337,
     "end_time": "2023-05-21T03:07:57.860473",
     "exception": false,
     "start_time": "2023-05-21T03:07:57.817136",
     "status": "completed"
    },
    "tags": []
   },
   "outputs": [],
   "source": [
    "df_sample_submission.head()"
   ]
  },
  {
   "cell_type": "markdown",
   "id": "ca4e9805",
   "metadata": {
    "papermill": {
     "duration": 0.018688,
     "end_time": "2023-05-21T03:07:57.898619",
     "exception": false,
     "start_time": "2023-05-21T03:07:57.879931",
     "status": "completed"
    },
    "tags": []
   },
   "source": [
    "##### As describe in the completions we are prediction the missing values for x_e_out, our test data consist of all the row with missing x_e_out."
   ]
  },
  {
   "cell_type": "code",
   "execution_count": null,
   "id": "caeb4a5a",
   "metadata": {
    "collapsed": false,
    "execution": {
     "iopub.execute_input": "2023-05-21T03:07:57.938293Z",
     "iopub.status.busy": "2023-05-21T03:07:57.937910Z",
     "iopub.status.idle": "2023-05-21T03:07:57.953028Z",
     "shell.execute_reply": "2023-05-21T03:07:57.952353Z"
    },
    "jupyter": {
     "outputs_hidden": false
    },
    "papermill": {
     "duration": 0.037192,
     "end_time": "2023-05-21T03:07:57.954820",
     "exception": false,
     "start_time": "2023-05-21T03:07:57.917628",
     "status": "completed"
    },
    "tags": []
   },
   "outputs": [],
   "source": [
    "df_data.head()"
   ]
  },
  {
   "cell_type": "code",
   "execution_count": null,
   "id": "9b8d34ab",
   "metadata": {
    "collapsed": false,
    "execution": {
     "iopub.execute_input": "2023-05-21T03:07:57.994828Z",
     "iopub.status.busy": "2023-05-21T03:07:57.994087Z",
     "iopub.status.idle": "2023-05-21T03:07:58.008588Z",
     "shell.execute_reply": "2023-05-21T03:07:58.007852Z"
    },
    "jupyter": {
     "outputs_hidden": false
    },
    "papermill": {
     "duration": 0.036479,
     "end_time": "2023-05-21T03:07:58.010426",
     "exception": false,
     "start_time": "2023-05-21T03:07:57.973947",
     "status": "completed"
    },
    "tags": []
   },
   "outputs": [],
   "source": [
    "df_og.head()"
   ]
  },
  {
   "cell_type": "code",
   "execution_count": null,
   "id": "9eb60596",
   "metadata": {
    "_kg_hide-input": true,
    "collapsed": false,
    "execution": {
     "iopub.execute_input": "2023-05-21T03:07:58.052179Z",
     "iopub.status.busy": "2023-05-21T03:07:58.051587Z",
     "iopub.status.idle": "2023-05-21T03:08:01.562965Z",
     "shell.execute_reply": "2023-05-21T03:08:01.562222Z"
    },
    "jupyter": {
     "outputs_hidden": false
    },
    "papermill": {
     "duration": 3.536592,
     "end_time": "2023-05-21T03:08:01.566946",
     "exception": false,
     "start_time": "2023-05-21T03:07:58.030354",
     "status": "completed"
    },
    "tags": []
   },
   "outputs": [],
   "source": [
    "fig, axes = plt.subplots(nrows=2, ncols=4, figsize=(20, 10))\n",
    "axes = axes.flatten()\n",
    "\n",
    "def graph_categorical_feature(data: list[tuple[pd.DataFrame, str, str]], target: str, axes_start_i: int) -> None:\n",
    "    # Makes sure that the categories are shown in the same order\n",
    "    category_order: list[str] = data[0][0][data[0][1]].unique()\n",
    "\n",
    "    # Plot barplots\n",
    "    for il, data_pack in enumerate(data):\n",
    "        df, column, label = data_pack\n",
    "        sns.countplot(x=column, data=df, label=label, order=category_order, ax=axes[axes_start_i + il])\n",
    "        axes[axes_start_i + il].tick_params(axis='x', rotation=90)  # Rotate x-axis labels\n",
    "\n",
    "    # Plot target correlation\n",
    "    for il, data_pack in enumerate(data):\n",
    "        df, column, label = data_pack\n",
    "        sns.barplot(x=column, y=target, data=df, label=label, order=category_order, ax=axes[axes_start_i + 2 + il])\n",
    "        axes[axes_start_i + 2 + il].tick_params(axis='x', rotation=90)  # Rotate x-axis labels\n",
    "\n",
    "\n",
    "    # Plot legends\n",
    "    axes[axes_start_i].legend()\n",
    "    axes[axes_start_i + 1].legend()\n",
    "    axes[axes_start_i + 2].legend()\n",
    "    axes[axes_start_i + 3].legend()\n",
    "\n",
    "i = 0\n",
    "for col in df_data.columns:\n",
    "    if not pd.api.types.is_numeric_dtype(df_data[col]):\n",
    "        graph_categorical_feature([(df_data, col, 'given'), (df_og, col, 'original')], 'x_e_out [-]', i)\n",
    "        i += 4\n",
    "\n",
    "plt.show()"
   ]
  },
  {
   "cell_type": "code",
   "execution_count": null,
   "id": "cef06c8a",
   "metadata": {
    "_kg_hide-input": true,
    "collapsed": false,
    "execution": {
     "iopub.execute_input": "2023-05-21T03:08:01.616431Z",
     "iopub.status.busy": "2023-05-21T03:08:01.615937Z",
     "iopub.status.idle": "2023-05-21T03:08:11.787320Z",
     "shell.execute_reply": "2023-05-21T03:08:11.786261Z"
    },
    "jupyter": {
     "outputs_hidden": false
    },
    "papermill": {
     "duration": 10.205039,
     "end_time": "2023-05-21T03:08:11.797544",
     "exception": false,
     "start_time": "2023-05-21T03:08:01.592505",
     "status": "completed"
    },
    "tags": []
   },
   "outputs": [],
   "source": [
    "fig, axes = plt.subplots(nrows=len(df_data.columns) - 2, ncols=4, figsize=(20, 35))\n",
    "axes = axes.flatten()\n",
    "\n",
    "def graph_numerical_feature(data: list[tuple[pd.DataFrame, str, str]], target: str, axes_start_i: int) -> None:\n",
    "    # Plot densities\n",
    "    for df, column, label in data:\n",
    "        sns.kdeplot(df[column], label=label, ax=axes[axes_start_i], fill=False)\n",
    "    for df, column, label in data:\n",
    "        sns.histplot(df[column], label=label, ax=axes[axes_start_i + 1], stat=\"density\", bins=50)\n",
    "\n",
    "    # Plot boxplot\n",
    "    tmp_data_dict = {}\n",
    "    for df, column, label in data:\n",
    "        tmp_data_dict[label] = df[column]\n",
    "    df_tmp = pd.DataFrame(tmp_data_dict)\n",
    "    sns.boxplot(data=df_tmp, ax=axes[axes_start_i + 2])\n",
    "    axes[axes_start_i + 2].set_xlabel(col)\n",
    "\n",
    "    # Plot target correlation\n",
    "    for df, column, label in data:\n",
    "        sns.scatterplot(x=column, y=target, label=label, ax=axes[axes_start_i + 3], data=df)\n",
    "\n",
    "    # Plot legends\n",
    "    axes[axes_start_i].legend()\n",
    "    axes[axes_start_i + 1].legend()\n",
    "    axes[axes_start_i + 3].legend()\n",
    "\n",
    "i = 0\n",
    "for col in df_data.columns:\n",
    "    if pd.api.types.is_numeric_dtype(df_data[col]):\n",
    "        graph_numerical_feature([(df_data, col, 'given'), (df_og, col, 'original')], 'x_e_out [-]', i)\n",
    "        i += 4\n",
    "\n",
    "plt.show()"
   ]
  },
  {
   "cell_type": "markdown",
   "id": "ec63898c",
   "metadata": {
    "papermill": {
     "duration": 0.033789,
     "end_time": "2023-05-21T03:08:11.866371",
     "exception": false,
     "start_time": "2023-05-21T03:08:11.832582",
     "status": "completed"
    },
    "tags": []
   },
   "source": [
    "##### The original data closely follows the distribution of our given synthetic data. This suggesting the value where nulled in our given data set evenly across all features, this means that original data should be good to use without introduction feature or distribution bias."
   ]
  },
  {
   "cell_type": "code",
   "execution_count": null,
   "id": "ba9261cb",
   "metadata": {
    "_kg_hide-input": true,
    "collapsed": false,
    "execution": {
     "iopub.execute_input": "2023-05-21T03:08:11.935953Z",
     "iopub.status.busy": "2023-05-21T03:08:11.935580Z",
     "iopub.status.idle": "2023-05-21T03:08:12.859285Z",
     "shell.execute_reply": "2023-05-21T03:08:12.858374Z"
    },
    "jupyter": {
     "outputs_hidden": false
    },
    "papermill": {
     "duration": 0.961267,
     "end_time": "2023-05-21T03:08:12.861531",
     "exception": false,
     "start_time": "2023-05-21T03:08:11.900264",
     "status": "completed"
    },
    "tags": []
   },
   "outputs": [],
   "source": [
    "def show_feature_correlation(df: pd.DataFrame, title: str):\n",
    "    plt.figure(figsize=(15, 15))\n",
    "    corr_matrix = df.select_dtypes(include='number').corr()\n",
    "\n",
    "    # Generate a mask for the upper triangle\n",
    "    mask = np.zeros_like(corr_matrix, dtype=bool)\n",
    "    mask[np.triu_indices_from(mask)] = True\n",
    "\n",
    "    sns.heatmap(corr_matrix, cmap='coolwarm', annot=True, mask=mask)\n",
    "    plt.title(title)\n",
    "    plt.show()\n",
    "\n",
    "show_feature_correlation(df_data, \"Given\")\n",
    "show_feature_correlation(df_og, \"Original\")"
   ]
  },
  {
   "cell_type": "markdown",
   "id": "7be43c51",
   "metadata": {
    "papermill": {
     "duration": 0.036214,
     "end_time": "2023-05-21T03:08:12.934592",
     "exception": false,
     "start_time": "2023-05-21T03:08:12.898378",
     "status": "completed"
    },
    "tags": []
   },
   "source": [
    "# Data Prep"
   ]
  },
  {
   "cell_type": "code",
   "execution_count": null,
   "id": "dedc4a82",
   "metadata": {
    "_kg_hide-input": true,
    "collapsed": false,
    "execution": {
     "iopub.execute_input": "2023-05-21T03:08:13.009905Z",
     "iopub.status.busy": "2023-05-21T03:08:13.009529Z",
     "iopub.status.idle": "2023-05-21T03:08:13.014982Z",
     "shell.execute_reply": "2023-05-21T03:08:13.013872Z"
    },
    "jupyter": {
     "outputs_hidden": false
    },
    "papermill": {
     "duration": 0.045985,
     "end_time": "2023-05-21T03:08:13.017137",
     "exception": false,
     "start_time": "2023-05-21T03:08:12.971152",
     "status": "completed"
    },
    "tags": []
   },
   "outputs": [],
   "source": [
    "numerical_columns = ['pressure [MPa]', 'mass_flux [kg/m2-s]','x_e_out [-]', 'D_e [mm]', 'D_h [mm]', 'length [mm]', 'chf_exp [MW/m2]']\n",
    "numerical_features = ['pressure [MPa]', 'mass_flux [kg/m2-s]', 'D_e [mm]', 'D_h [mm]', 'length [mm]', 'chf_exp [MW/m2]']\n",
    "categorical_columns = ['author', 'geometry']\n",
    "target = 'x_e_out [-]'"
   ]
  },
  {
   "cell_type": "code",
   "execution_count": null,
   "id": "daf96da8",
   "metadata": {
    "_kg_hide-input": false,
    "collapsed": false,
    "execution": {
     "iopub.execute_input": "2023-05-21T03:08:13.091702Z",
     "iopub.status.busy": "2023-05-21T03:08:13.091325Z",
     "iopub.status.idle": "2023-05-21T03:08:13.100744Z",
     "shell.execute_reply": "2023-05-21T03:08:13.099702Z"
    },
    "jupyter": {
     "outputs_hidden": false
    },
    "papermill": {
     "duration": 0.049421,
     "end_time": "2023-05-21T03:08:13.102993",
     "exception": false,
     "start_time": "2023-05-21T03:08:13.053572",
     "status": "completed"
    },
    "tags": []
   },
   "outputs": [],
   "source": [
    "label_encoders = {}\n",
    "\n",
    "def label_encode(df: pd.DataFrame) -> None:\n",
    "    for column in categorical_columns:\n",
    "        label_encoder: LabelEncoder = LabelEncoder()\n",
    "        df[column] = label_encoder.fit_transform(df[column])\n",
    "        label_encoders[column] = label_encoder\n",
    "\n",
    "def reverse_encode(df: pd.DataFrame) -> None:\n",
    "    for column in label_encoders.keys():\n",
    "        df[column] = df[column].astype(int)\n",
    "        df[column] = label_encoders[column].inverse_transform(df[column])\n",
    "\n",
    "def one_hot_encode(df: pd.DataFrame) -> pd.DataFrame:\n",
    "    one_hot_encoded_data = pd.get_dummies(df, columns=categorical_columns)\n",
    "    return one_hot_encoded_data\n",
    "\n",
    "def normalize(df: pd.DataFrame) -> pd.DataFrame:\n",
    "    for column in numerical_features:\n",
    "        column_values = df[column].values  # No need to reshape column values\n",
    "        not_nan_values = column_values[~pd.isnull(column_values)]  # Filter non-NaN values\n",
    "\n",
    "        if not_nan_values.size > 0:  # Check if there are any non-NaN values\n",
    "            not_nan_values = not_nan_values.reshape(-1, 1)  # Reshape to 2D array with single column\n",
    "            standard_scaler = StandardScaler()\n",
    "            normalized_values = standard_scaler.fit_transform(not_nan_values)\n",
    "\n",
    "            # Create a mask to identify non-NaN values in the column\n",
    "            mask = ~pd.isnull(df[column])\n",
    "            # Replace the non-NaN values with normalized values in the original DataFrame\n",
    "            df.loc[mask, column] = normalized_values.flatten()\n",
    "\n",
    "    return df"
   ]
  },
  {
   "cell_type": "code",
   "execution_count": null,
   "id": "2c6dd1db",
   "metadata": {
    "collapsed": false,
    "execution": {
     "iopub.execute_input": "2023-05-21T03:08:13.177935Z",
     "iopub.status.busy": "2023-05-21T03:08:13.177138Z",
     "iopub.status.idle": "2023-05-21T03:08:13.185809Z",
     "shell.execute_reply": "2023-05-21T03:08:13.184650Z"
    },
    "jupyter": {
     "outputs_hidden": false
    },
    "papermill": {
     "duration": 0.047927,
     "end_time": "2023-05-21T03:08:13.187982",
     "exception": false,
     "start_time": "2023-05-21T03:08:13.140055",
     "status": "completed"
    },
    "tags": []
   },
   "outputs": [],
   "source": [
    "df_train: pd.DataFrame = pd.concat([df_data, df_og])\n",
    "df_train.reset_index(inplace=True, drop=True)"
   ]
  },
  {
   "cell_type": "code",
   "execution_count": null,
   "id": "ea7201b7",
   "metadata": {
    "_kg_hide-input": false,
    "collapsed": false,
    "execution": {
     "iopub.execute_input": "2023-05-21T03:08:13.262904Z",
     "iopub.status.busy": "2023-05-21T03:08:13.262247Z",
     "iopub.status.idle": "2023-05-21T03:08:13.290771Z",
     "shell.execute_reply": "2023-05-21T03:08:13.289703Z"
    },
    "jupyter": {
     "outputs_hidden": false
    },
    "papermill": {
     "duration": 0.068206,
     "end_time": "2023-05-21T03:08:13.292910",
     "exception": false,
     "start_time": "2023-05-21T03:08:13.224704",
     "status": "completed"
    },
    "tags": []
   },
   "outputs": [],
   "source": [
    "normalize(df_train)"
   ]
  },
  {
   "cell_type": "code",
   "execution_count": null,
   "id": "280a1a5a",
   "metadata": {
    "_kg_hide-input": true,
    "collapsed": false,
    "execution": {
     "iopub.execute_input": "2023-05-21T03:08:13.367408Z",
     "iopub.status.busy": "2023-05-21T03:08:13.366992Z",
     "iopub.status.idle": "2023-05-21T03:08:13.370945Z",
     "shell.execute_reply": "2023-05-21T03:08:13.370245Z"
    },
    "jupyter": {
     "outputs_hidden": false
    },
    "papermill": {
     "duration": 0.043304,
     "end_time": "2023-05-21T03:08:13.372694",
     "exception": false,
     "start_time": "2023-05-21T03:08:13.329390",
     "status": "completed"
    },
    "tags": []
   },
   "outputs": [],
   "source": [
    "#label_encode(df_train)"
   ]
  },
  {
   "cell_type": "code",
   "execution_count": null,
   "id": "903fd2a0",
   "metadata": {
    "_kg_hide-input": false,
    "collapsed": false,
    "execution": {
     "iopub.execute_input": "2023-05-21T03:08:13.447524Z",
     "iopub.status.busy": "2023-05-21T03:08:13.446845Z",
     "iopub.status.idle": "2023-05-21T03:08:13.466132Z",
     "shell.execute_reply": "2023-05-21T03:08:13.465246Z"
    },
    "jupyter": {
     "outputs_hidden": false
    },
    "papermill": {
     "duration": 0.059703,
     "end_time": "2023-05-21T03:08:13.468617",
     "exception": false,
     "start_time": "2023-05-21T03:08:13.408914",
     "status": "completed"
    },
    "tags": []
   },
   "outputs": [],
   "source": [
    "df_train = one_hot_encode(df_train)"
   ]
  },
  {
   "cell_type": "code",
   "execution_count": null,
   "id": "1a595659",
   "metadata": {
    "_kg_hide-input": true,
    "collapsed": false,
    "execution": {
     "iopub.execute_input": "2023-05-21T03:08:13.543438Z",
     "iopub.status.busy": "2023-05-21T03:08:13.542693Z",
     "iopub.status.idle": "2023-05-21T03:08:13.567092Z",
     "shell.execute_reply": "2023-05-21T03:08:13.565601Z"
    },
    "jupyter": {
     "outputs_hidden": false
    },
    "papermill": {
     "duration": 0.064411,
     "end_time": "2023-05-21T03:08:13.569501",
     "exception": false,
     "start_time": "2023-05-21T03:08:13.505090",
     "status": "completed"
    },
    "tags": []
   },
   "outputs": [],
   "source": [
    "df_train"
   ]
  },
  {
   "cell_type": "markdown",
   "id": "840bfda8",
   "metadata": {
    "papermill": {
     "duration": 0.03714,
     "end_time": "2023-05-21T03:08:13.643742",
     "exception": false,
     "start_time": "2023-05-21T03:08:13.606602",
     "status": "completed"
    },
    "tags": []
   },
   "source": [
    "# Train"
   ]
  },
  {
   "cell_type": "markdown",
   "id": "5d16868e",
   "metadata": {
    "papermill": {
     "duration": 0.037349,
     "end_time": "2023-05-21T03:08:13.718410",
     "exception": false,
     "start_time": "2023-05-21T03:08:13.681061",
     "status": "completed"
    },
    "tags": []
   },
   "source": [
    "## Impute missing numerical features"
   ]
  },
  {
   "cell_type": "code",
   "execution_count": null,
   "id": "9ac30248",
   "metadata": {
    "_kg_hide-output": true,
    "collapsed": false,
    "execution": {
     "iopub.execute_input": "2023-05-21T03:08:13.797057Z",
     "iopub.status.busy": "2023-05-21T03:08:13.796362Z",
     "iopub.status.idle": "2023-05-21T03:12:54.002747Z",
     "shell.execute_reply": "2023-05-21T03:12:54.001585Z"
    },
    "jupyter": {
     "outputs_hidden": false
    },
    "papermill": {
     "duration": 280.248131,
     "end_time": "2023-05-21T03:12:54.004984",
     "exception": false,
     "start_time": "2023-05-21T03:08:13.756853",
     "status": "completed"
    },
    "tags": []
   },
   "outputs": [],
   "source": [
    "# Create an instance of imputer\n",
    "#imputer = IterativeSVD()\n",
    "imputer = KNN()\n",
    "\n",
    "# Perform the imputation\n",
    "df_train_imputed = pd.DataFrame(imputer.fit_transform(df_train), columns=df_train.columns)\n",
    "# Print the imputed DataFrame\n",
    "print(\"Imputed DataFrame:\")\n",
    "df_train_imputed"
   ]
  },
  {
   "cell_type": "code",
   "execution_count": null,
   "id": "cc90cc2a",
   "metadata": {
    "collapsed": false,
    "execution": {
     "iopub.execute_input": "2023-05-21T03:12:54.088598Z",
     "iopub.status.busy": "2023-05-21T03:12:54.087732Z",
     "iopub.status.idle": "2023-05-21T03:12:54.098463Z",
     "shell.execute_reply": "2023-05-21T03:12:54.097474Z"
    },
    "jupyter": {
     "outputs_hidden": false
    },
    "papermill": {
     "duration": 0.055141,
     "end_time": "2023-05-21T03:12:54.100747",
     "exception": false,
     "start_time": "2023-05-21T03:12:54.045606",
     "status": "completed"
    },
    "tags": []
   },
   "outputs": [],
   "source": [
    "df_train_imputed.isna().sum()"
   ]
  },
  {
   "cell_type": "markdown",
   "id": "35070aae",
   "metadata": {
    "papermill": {
     "duration": 0.040081,
     "end_time": "2023-05-21T03:12:54.181752",
     "exception": false,
     "start_time": "2023-05-21T03:12:54.141671",
     "status": "completed"
    },
    "tags": []
   },
   "source": [
    "## Train tree boosting models"
   ]
  },
  {
   "cell_type": "markdown",
   "id": "bb125311",
   "metadata": {
    "papermill": {
     "duration": 0.040379,
     "end_time": "2023-05-21T03:12:54.262972",
     "exception": false,
     "start_time": "2023-05-21T03:12:54.222593",
     "status": "completed"
    },
    "tags": []
   },
   "source": [
    "### Construct new training data"
   ]
  },
  {
   "cell_type": "code",
   "execution_count": null,
   "id": "d941936c",
   "metadata": {
    "collapsed": false,
    "execution": {
     "iopub.execute_input": "2023-05-21T03:12:54.347498Z",
     "iopub.status.busy": "2023-05-21T03:12:54.346717Z",
     "iopub.status.idle": "2023-05-21T03:12:54.357741Z",
     "shell.execute_reply": "2023-05-21T03:12:54.357002Z"
    },
    "jupyter": {
     "outputs_hidden": false
    },
    "papermill": {
     "duration": 0.056153,
     "end_time": "2023-05-21T03:12:54.359929",
     "exception": false,
     "start_time": "2023-05-21T03:12:54.303776",
     "status": "completed"
    },
    "tags": []
   },
   "outputs": [],
   "source": [
    "for column in numerical_features:\n",
    "    if df_train[column].isna().sum() > 0:\n",
    "        df_train[f'{column}_was_an'] = df_train[column].isna().astype(int)"
   ]
  },
  {
   "cell_type": "code",
   "execution_count": null,
   "id": "3e2862d5",
   "metadata": {
    "collapsed": false,
    "execution": {
     "iopub.execute_input": "2023-05-21T03:12:54.444146Z",
     "iopub.status.busy": "2023-05-21T03:12:54.443782Z",
     "iopub.status.idle": "2023-05-21T03:12:54.454519Z",
     "shell.execute_reply": "2023-05-21T03:12:54.453583Z"
    },
    "jupyter": {
     "outputs_hidden": false
    },
    "papermill": {
     "duration": 0.05524,
     "end_time": "2023-05-21T03:12:54.456821",
     "exception": false,
     "start_time": "2023-05-21T03:12:54.401581",
     "status": "completed"
    },
    "tags": []
   },
   "outputs": [],
   "source": [
    "for column in numerical_features:\n",
    "    if df_train[column].isna().sum() > 0:\n",
    "        df_train[column] = df_train_imputed[column]"
   ]
  },
  {
   "cell_type": "code",
   "execution_count": null,
   "id": "7afaf4b5",
   "metadata": {
    "collapsed": false,
    "execution": {
     "iopub.execute_input": "2023-05-21T03:12:54.540049Z",
     "iopub.status.busy": "2023-05-21T03:12:54.539669Z",
     "iopub.status.idle": "2023-05-21T03:12:54.551132Z",
     "shell.execute_reply": "2023-05-21T03:12:54.550366Z"
    },
    "jupyter": {
     "outputs_hidden": false
    },
    "papermill": {
     "duration": 0.055744,
     "end_time": "2023-05-21T03:12:54.553217",
     "exception": false,
     "start_time": "2023-05-21T03:12:54.497473",
     "status": "completed"
    },
    "tags": []
   },
   "outputs": [],
   "source": [
    "df_test = df_train[df_train[target].isna()]\n",
    "df_train = df_train[~df_train[target].isna()]"
   ]
  },
  {
   "cell_type": "code",
   "execution_count": null,
   "id": "fd9c2169",
   "metadata": {
    "collapsed": false,
    "execution": {
     "iopub.execute_input": "2023-05-21T03:12:54.637378Z",
     "iopub.status.busy": "2023-05-21T03:12:54.636698Z",
     "iopub.status.idle": "2023-05-21T03:12:54.642692Z",
     "shell.execute_reply": "2023-05-21T03:12:54.642004Z"
    },
    "jupyter": {
     "outputs_hidden": false
    },
    "papermill": {
     "duration": 0.050407,
     "end_time": "2023-05-21T03:12:54.644550",
     "exception": false,
     "start_time": "2023-05-21T03:12:54.594143",
     "status": "completed"
    },
    "tags": []
   },
   "outputs": [],
   "source": [
    "\n",
    "\n",
    "#df_test = remove_special_characters_from_dataframe(df_test)\n",
    "#df_train = remove_special_characters_from_dataframe(df_train)\n",
    "\n",
    "#df_train = df_train[['mass_fluxkgm2s', 'pressureMPa', 'lengthmm', 'D_emm', 'D_hmm', 'chf_expMWm2', 'geometry_tube', 'x_e_out']]\n",
    "#df_test = df_test[['mass_fluxkgm2s', 'pressureMPa', 'lengthmm', 'D_emm', 'D_hmm', 'chf_expMWm2', 'geometry_tube', 'x_e_out']]"
   ]
  },
  {
   "cell_type": "code",
   "execution_count": null,
   "id": "a6116f77",
   "metadata": {
    "_kg_hide-input": true,
    "_kg_hide-output": true,
    "collapsed": false,
    "execution": {
     "iopub.execute_input": "2023-05-21T03:12:54.729528Z",
     "iopub.status.busy": "2023-05-21T03:12:54.728860Z",
     "iopub.status.idle": "2023-05-21T03:21:46.310871Z",
     "shell.execute_reply": "2023-05-21T03:21:46.309840Z"
    },
    "jupyter": {
     "outputs_hidden": false
    },
    "papermill": {
     "duration": 531.628201,
     "end_time": "2023-05-21T03:21:46.314081",
     "exception": false,
     "start_time": "2023-05-21T03:12:54.685880",
     "status": "completed"
    },
    "tags": []
   },
   "outputs": [],
   "source": [
    "def objective(trial):\n",
    "    # Define the hyperparameter search space\n",
    "    params = {\n",
    "        'metric': 'mse',\n",
    "        'n_estimators': trial.suggest_int('n_estimators', 500, 5000),\n",
    "        'max_depth': trial.suggest_int('max_depth', 4, 8),\n",
    "        'num_leaves': trial.suggest_int('num_leaves', 3, 100),\n",
    "        'learning_rate': trial.suggest_float('learning_rate', 0.01, 0.1),\n",
    "        'min_child_samples': trial.suggest_int('min_child_samples', 1, 20),\n",
    "        'reg_alpha': trial.suggest_float('reg_alpha', 0, 1),\n",
    "        'reg_lambda': trial.suggest_float('reg_lambda', 0, 1),\n",
    "        'force_col_wise': trial.suggest_categorical('force_col_wise', [True, False]),\n",
    "        'verbosity': -1\n",
    "    }\n",
    "\n",
    "    # Split the data into training and validation sets\n",
    "    X = df_train.drop('x_e_out', axis=1)\n",
    "    y = df_train['x_e_out']\n",
    "    X_train, X_val, y_train, y_val = train_test_split(X, y, test_size=0.2, random_state=42)\n",
    "\n",
    "    # Train the LGBM regressor\n",
    "    model = lgb.LGBMRegressor(**params)\n",
    "    model.fit(X_train, y_train)\n",
    "\n",
    "    # Predict on the validation set and calculate MAE\n",
    "    y_pred = model.predict(X_val)\n",
    "    mae = mean_absolute_error(y_val, y_pred)\n",
    "\n",
    "    return mae\n",
    "\n",
    "# Create the Optuna study\n",
    "study_lgbm = optuna.create_study(direction='minimize')\n",
    "\n",
    "# Start the hyperparameter search\n",
    "study_lgbm.optimize(objective, n_trials=100)\n",
    "\n",
    "# Print the best parameters and the best MAE\n",
    "best_params = study_lgbm.best_params\n",
    "best_mae = study_lgbm.best_value\n",
    "print(f\"Best Parameters: {best_params}\")\n",
    "print(f\"Best MAE: {best_mae}\")"
   ]
  },
  {
   "cell_type": "code",
   "execution_count": null,
   "id": "d61f4396",
   "metadata": {
    "_kg_hide-input": true,
    "_kg_hide-output": true,
    "collapsed": false,
    "execution": {
     "iopub.execute_input": "2023-05-21T03:21:46.411445Z",
     "iopub.status.busy": "2023-05-21T03:21:46.410471Z",
     "iopub.status.idle": "2023-05-21T04:22:16.735548Z",
     "shell.execute_reply": "2023-05-21T04:22:16.734492Z"
    },
    "jupyter": {
     "outputs_hidden": false
    },
    "papermill": {
     "duration": 3630.376249,
     "end_time": "2023-05-21T04:22:16.737855",
     "exception": false,
     "start_time": "2023-05-21T03:21:46.361606",
     "status": "completed"
    },
    "tags": []
   },
   "outputs": [],
   "source": [
    "def objective(trial):\n",
    "    # Define the hyperparameter search space\n",
    "    params = {\n",
    "        'loss_function': 'MAE',\n",
    "        'depth': trial.suggest_int('depth', 3, 16),\n",
    "        'learning_rate': trial.suggest_float('learning_rate', 0.001, 0.2),\n",
    "        'l2_leaf_reg': trial.suggest_float('l2_leaf_reg', 0, 1),\n",
    "        'random_strength': trial.suggest_float('random_strength', 0, 1),\n",
    "        'bagging_temperature': trial.suggest_float('bagging_temperature', 0.0, 1.0),\n",
    "        'grow_policy': trial.suggest_categorical('grow_policy', ['SymmetricTree', 'Depthwise', 'Lossguide']),\n",
    "        'iterations': trial.suggest_int('iterations', 500, 5000),\n",
    "        'early_stopping_rounds': 100,\n",
    "        'verbose': False\n",
    "    }\n",
    "\n",
    "    # Split the data into training and validation sets\n",
    "    X = df_train.drop('x_e_out', axis=1)\n",
    "    y = df_train['x_e_out']\n",
    "    X_train, X_val, y_train, y_val = train_test_split(X, y, test_size=0.2, random_state=42)\n",
    "\n",
    "    # Train the CatBoost regressor\n",
    "    model = CatBoostRegressor(**params)\n",
    "    model.fit(X_train, y_train, eval_set=(X_val, y_val))\n",
    "\n",
    "    # Predict on the validation set and calculate MAE\n",
    "    y_pred = model.predict(X_val)\n",
    "    mae = mean_absolute_error(y_val, y_pred)\n",
    "\n",
    "    return mae\n",
    "\n",
    "# Create the Optuna study\n",
    "study_catboost = optuna.create_study(direction='minimize')\n",
    "\n",
    "# Start the hyperparameter search\n",
    "study_catboost.optimize(objective, n_trials=100)\n",
    "\n",
    "# Print the best parameters and the best MAE\n",
    "best_params = study_catboost.best_params\n",
    "best_mae = study_catboost.best_value\n",
    "print(f\"Best Parameters: {best_params}\")\n",
    "print(f\"Best MAE: {best_mae}\")"
   ]
  },
  {
   "cell_type": "code",
   "execution_count": null,
   "id": "d4e765c7",
   "metadata": {
    "_kg_hide-input": true,
    "_kg_hide-output": true,
    "collapsed": false,
    "execution": {
     "iopub.execute_input": "2023-05-21T04:22:16.848924Z",
     "iopub.status.busy": "2023-05-21T04:22:16.847851Z",
     "iopub.status.idle": "2023-05-21T04:24:33.473168Z",
     "shell.execute_reply": "2023-05-21T04:24:33.471727Z"
    },
    "jupyter": {
     "outputs_hidden": false
    },
    "papermill": {
     "duration": 136.683175,
     "end_time": "2023-05-21T04:24:33.475345",
     "exception": false,
     "start_time": "2023-05-21T04:22:16.792170",
     "status": "completed"
    },
    "tags": []
   },
   "outputs": [],
   "source": [
    "def objective(trial):\n",
    "    # Define the hyperparameter search space\n",
    "    params = {\n",
    "        'objective': 'reg:pseudohubererror',\n",
    "        'eval_metric': 'mae',\n",
    "        'n_estimators': trial.suggest_int('n_estimators', 500, 5000),\n",
    "        'max_depth': trial.suggest_int('max_depth', 3, 100),\n",
    "        'learning_rate': trial.suggest_float('learning_rate', 0.01, 0.1),\n",
    "        'min_child_weight': trial.suggest_float('min_child_weight', 0.1, 10.0),\n",
    "        'gamma': trial.suggest_float('gamma', 0.0, 1.0),\n",
    "        'subsample': trial.suggest_float('subsample', 0.5, 1.0),\n",
    "        'colsample_bytree': trial.suggest_float('colsample_bytree', 0.5, 1.0),\n",
    "        'reg_alpha': trial.suggest_float('reg_alpha', 0.0, 1.0),\n",
    "        'reg_lambda': trial.suggest_float('reg_lambda', 0.0, 1.0),\n",
    "        #'grow_policy': 'lossguide',\n",
    "        'eta': trial.suggest_float('eta', 0.00, 1),\n",
    "        'early_stopping_rounds': 100,\n",
    "        'huber_slope': trial.suggest_float('huber_slope', 0.01, 0.5),\n",
    "        'verbosity': 0\n",
    "    }\n",
    "\n",
    "    # Split the data into training and validation sets\n",
    "    X = df_train.drop('x_e_out', axis=1)\n",
    "    y = df_train['x_e_out']\n",
    "    X_train, X_val, y_train, y_val = train_test_split(X, y, test_size=0.2, random_state=42)\n",
    "\n",
    "    # Train the XGBoost regressor\n",
    "    dtrain = xgb.DMatrix(X_train, label=y_train)\n",
    "    dval = xgb.DMatrix(X_val, label=y_val)\n",
    "    model = xgb.train(params, dtrain, evals=[(dval, 'validation')], verbose_eval=False)\n",
    "\n",
    "    # Predict on the validation set and calculate MAE\n",
    "    y_pred = model.predict(dval)\n",
    "    mae = mean_absolute_error(y_val, y_pred)\n",
    "\n",
    "    return mae\n",
    "\n",
    "# Create the Optuna study\n",
    "study_xgboost = optuna.create_study(direction='minimize')\n",
    "\n",
    "# Start the hyperparameter search\n",
    "study_xgboost.optimize(objective, n_trials=250)\n",
    "\n",
    "# Print the best parameters and the best MAE\n",
    "best_params = study_xgboost.best_params\n",
    "best_mae = study_xgboost.best_value\n",
    "print(f\"Best Parameters: {best_params}\")\n",
    "print(f\"Best MAE: {best_mae}\")"
   ]
  },
  {
   "cell_type": "code",
   "execution_count": null,
   "id": "d186fec9",
   "metadata": {
    "collapsed": false,
    "execution": {
     "iopub.execute_input": "2023-05-21T04:24:33.626585Z",
     "iopub.status.busy": "2023-05-21T04:24:33.625876Z",
     "iopub.status.idle": "2023-05-21T04:24:33.634729Z",
     "shell.execute_reply": "2023-05-21T04:24:33.633627Z"
    },
    "jupyter": {
     "outputs_hidden": false
    },
    "papermill": {
     "duration": 0.086607,
     "end_time": "2023-05-21T04:24:33.636978",
     "exception": false,
     "start_time": "2023-05-21T04:24:33.550371",
     "status": "completed"
    },
    "tags": []
   },
   "outputs": [],
   "source": [
    "class Pipeline:\n",
    "\n",
    "    def __init__(self, model_type: str):\n",
    "        self.model_type = model_type\n",
    "        if model_type == 'LightGBM':\n",
    "            self.model = lgb.LGBMRegressor(**study_lgbm.best_params)\n",
    "        elif model_type == 'CatBoost':\n",
    "            self.model = CatBoostRegressor(**study_catboost.best_params)\n",
    "        elif model_type == 'XGBoost':\n",
    "            self.model = xgb.XGBRegressor(**study_xgboost.best_params)\n",
    "        else:\n",
    "            raise ValueError(f\"Given model type is not supported! {model_type} was given.\")\n",
    "\n",
    "    def fit(self, X, y, X_val, y_val):\n",
    "        if self.model_type in ['CatBoost']:\n",
    "            self.model.fit(X, y.ravel(), eval_set=[(X_val, y_val.ravel())], early_stopping_rounds=100, verbose=False)\n",
    "        else:\n",
    "            self.model.fit(X, y.ravel(), eval_set=[(X_val, y_val.ravel())], verbose=False)\n",
    "\n",
    "    def predict(self, X):\n",
    "        return self.model.predict(X)"
   ]
  },
  {
   "cell_type": "code",
   "execution_count": null,
   "id": "2c128a63",
   "metadata": {
    "collapsed": false,
    "execution": {
     "iopub.execute_input": "2023-05-21T04:24:33.781891Z",
     "iopub.status.busy": "2023-05-21T04:24:33.781477Z",
     "iopub.status.idle": "2023-05-21T04:24:33.792665Z",
     "shell.execute_reply": "2023-05-21T04:24:33.791391Z"
    },
    "jupyter": {
     "outputs_hidden": false
    },
    "papermill": {
     "duration": 0.087114,
     "end_time": "2023-05-21T04:24:33.795727",
     "exception": false,
     "start_time": "2023-05-21T04:24:33.708613",
     "status": "completed"
    },
    "tags": []
   },
   "outputs": [],
   "source": [
    "def train(model_type):\n",
    "    X = df_train.drop(['x_e_out'], axis=1)\n",
    "    y = df_train['x_e_out']\n",
    "    SKFs = KFold(n_splits=10, shuffle=True, random_state=1)\n",
    "    losses = []\n",
    "    pipelines = []\n",
    "    idx_vls = []\n",
    "    for fold, (idx_tr, idx_vl) in enumerate(SKFs.split(X, y)):\n",
    "        train_dataframe = df_train.iloc[idx_tr]\n",
    "        dev_dataframe = df_train.iloc[idx_vl]\n",
    "\n",
    "        # splits data to features and target\n",
    "        X_train = train_dataframe.drop('x_e_out', axis=1)\n",
    "        y_train = train_dataframe['x_e_out']\n",
    "        X_dev = dev_dataframe.drop('x_e_out', axis=1)\n",
    "        y_dev = dev_dataframe['x_e_out']\n",
    "\n",
    "        # crates and fits a pipeline\n",
    "        pipelineMy = Pipeline(model_type)\n",
    "        pipelineMy.fit(X_train, y_train, X_dev, y_dev)\n",
    "\n",
    "        # evaluates the model\n",
    "        pipelines.append(pipelineMy)\n",
    "        loss = mean_absolute_error(y_dev, pipelineMy.predict(X_dev))\n",
    "        losses.append(loss)\n",
    "        idx_vls.append(idx_vl)\n",
    "        print(f'Fold {fold} loss: {loss}')\n",
    "    print(f'Mean loss: {np.array(losses).mean()}')\n",
    "    return losses, pipelines, idx_vls"
   ]
  },
  {
   "cell_type": "code",
   "execution_count": null,
   "id": "b0dcaa77",
   "metadata": {
    "collapsed": false,
    "execution": {
     "iopub.execute_input": "2023-05-21T04:24:33.955841Z",
     "iopub.status.busy": "2023-05-21T04:24:33.954834Z",
     "iopub.status.idle": "2023-05-21T04:24:33.959872Z",
     "shell.execute_reply": "2023-05-21T04:24:33.958861Z"
    },
    "jupyter": {
     "outputs_hidden": false
    },
    "papermill": {
     "duration": 0.079585,
     "end_time": "2023-05-21T04:24:33.962035",
     "exception": false,
     "start_time": "2023-05-21T04:24:33.882450",
     "status": "completed"
    },
    "tags": []
   },
   "outputs": [],
   "source": [
    "supported_models = ['LightGBM', 'CatBoost', 'XGBoost']"
   ]
  },
  {
   "cell_type": "code",
   "execution_count": null,
   "id": "92632b16",
   "metadata": {
    "collapsed": false,
    "execution": {
     "iopub.execute_input": "2023-05-21T04:24:34.105355Z",
     "iopub.status.busy": "2023-05-21T04:24:34.104877Z",
     "iopub.status.idle": "2023-05-21T05:27:17.500284Z",
     "shell.execute_reply": "2023-05-21T05:27:17.497249Z"
    },
    "jupyter": {
     "outputs_hidden": false
    },
    "papermill": {
     "duration": 3763.543313,
     "end_time": "2023-05-21T05:27:17.575712",
     "exception": false,
     "start_time": "2023-05-21T04:24:34.032399",
     "status": "completed"
    },
    "tags": []
   },
   "outputs": [],
   "source": [
    "train_results = {}\n",
    "for model_name in supported_models:\n",
    "    print(f\"-------------------- {model_name} -------------------- \")\n",
    "    losses, pipelines, eval_sets = train(model_name)\n",
    "    train_results[f'{model_name}_losses'] = losses\n",
    "    train_results[f'{model_name}_pipelines'] = pipelines\n",
    "    train_results[f'{model_name}_eval_sets'] = eval_sets"
   ]
  },
  {
   "cell_type": "markdown",
   "id": "9ec2740b",
   "metadata": {
    "papermill": {
     "duration": 0.0733,
     "end_time": "2023-05-21T05:27:17.721840",
     "exception": false,
     "start_time": "2023-05-21T05:27:17.648540",
     "status": "completed"
    },
    "tags": []
   },
   "source": [
    "## Calculate assembly weights"
   ]
  },
  {
   "cell_type": "code",
   "execution_count": null,
   "id": "4932fc83",
   "metadata": {
    "_kg_hide-input": true,
    "collapsed": false,
    "execution": {
     "iopub.execute_input": "2023-05-21T05:27:17.870828Z",
     "iopub.status.busy": "2023-05-21T05:27:17.870313Z",
     "iopub.status.idle": "2023-05-21T05:27:19.248717Z",
     "shell.execute_reply": "2023-05-21T05:27:19.247724Z"
    },
    "jupyter": {
     "outputs_hidden": false
    },
    "papermill": {
     "duration": 1.456933,
     "end_time": "2023-05-21T05:27:19.251351",
     "exception": false,
     "start_time": "2023-05-21T05:27:17.794418",
     "status": "completed"
    },
    "tags": []
   },
   "outputs": [],
   "source": [
    "model_predictions_on_validation = {'model_name': [], 'x': [], 'y': []}\n",
    "def calc_model_predictions_on_validation(pipelines, eval_sets_idx):\n",
    "    predictions = None\n",
    "    ground_truth = None\n",
    "\n",
    "    for pipeline, eval_set in zip(pipelines, eval_sets_idx):\n",
    "        dev = df_train.iloc[eval_set[eval_set < 15281]]\n",
    "        X_dev = dev.drop('x_e_out', axis=1)\n",
    "        y_dev = dev['x_e_out']\n",
    "        prediction = pipeline.predict(X_dev)\n",
    "\n",
    "        if predictions is None:\n",
    "            predictions = np.array(prediction).flatten()\n",
    "            ground_truth = np.array(y_dev).flatten()\n",
    "        else:\n",
    "            predictions = np.concatenate((predictions,  np.array(prediction).flatten()))\n",
    "            ground_truth = np.concatenate((ground_truth,  np.array(y_dev).flatten()))\n",
    "\n",
    "    model_predictions_on_validation['model_name'].append(model_name)\n",
    "    model_predictions_on_validation['x'].append(predictions)\n",
    "    model_predictions_on_validation['y'].append(ground_truth) # Should be the same for all models\n",
    "\n",
    "for model_name in supported_models:\n",
    "    calc_model_predictions_on_validation(train_results[f'{model_name}_pipelines'], train_results[f'{model_name}_eval_sets'])"
   ]
  },
  {
   "cell_type": "code",
   "execution_count": null,
   "id": "44561da4",
   "metadata": {
    "collapsed": false,
    "execution": {
     "iopub.execute_input": "2023-05-21T05:27:19.399541Z",
     "iopub.status.busy": "2023-05-21T05:27:19.399111Z",
     "iopub.status.idle": "2023-05-21T05:27:19.405968Z",
     "shell.execute_reply": "2023-05-21T05:27:19.405082Z"
    },
    "jupyter": {
     "outputs_hidden": false
    },
    "papermill": {
     "duration": 0.083458,
     "end_time": "2023-05-21T05:27:19.408099",
     "exception": false,
     "start_time": "2023-05-21T05:27:19.324641",
     "status": "completed"
    },
    "tags": []
   },
   "outputs": [],
   "source": [
    "def eval_assembly_on_validation(weights):\n",
    "    #weights = weights / np.sum(weights, axis=0, keepdims=True)\n",
    "    prediction = 0\n",
    "\n",
    "    for model_id, x in enumerate(model_predictions_on_validation['x']):\n",
    "        prediction += x * weights[model_id]\n",
    "\n",
    "    return mean_absolute_error(model_predictions_on_validation['y'][0], prediction)"
   ]
  },
  {
   "cell_type": "code",
   "execution_count": null,
   "id": "65df3d3e",
   "metadata": {
    "collapsed": false,
    "execution": {
     "iopub.execute_input": "2023-05-21T05:27:19.559950Z",
     "iopub.status.busy": "2023-05-21T05:27:19.559203Z",
     "iopub.status.idle": "2023-05-21T05:27:19.656227Z",
     "shell.execute_reply": "2023-05-21T05:27:19.655248Z"
    },
    "jupyter": {
     "outputs_hidden": false
    },
    "papermill": {
     "duration": 0.17668,
     "end_time": "2023-05-21T05:27:19.658496",
     "exception": false,
     "start_time": "2023-05-21T05:27:19.481816",
     "status": "completed"
    },
    "tags": []
   },
   "outputs": [],
   "source": [
    "# Set initial weights\n",
    "model_weights = np.array([0.1, 0.8, 0.1])\n",
    "# Define the optimization bounds\n",
    "bounds = [(0, 1.0)] * len(model_weights)\n",
    "\n",
    "# Define the optimization function\n",
    "res = minimize(eval_assembly_on_validation, model_weights, method='nelder-mead', bounds=bounds)\n",
    "# Print the optimized weights\n",
    "optimal_model_weights = res.x\n",
    "print(optimal_model_weights.sum())\n",
    "optimal_model_weights = optimal_model_weights / np.sum(optimal_model_weights, axis=0, keepdims=True)\n",
    "print(optimal_model_weights.sum())\n",
    "optimal_model_weights = np.array([0.1, 0.8, 0.1])"
   ]
  },
  {
   "cell_type": "code",
   "execution_count": null,
   "id": "3a960f7b",
   "metadata": {
    "_kg_hide-input": true,
    "collapsed": false,
    "execution": {
     "iopub.execute_input": "2023-05-21T05:27:19.808125Z",
     "iopub.status.busy": "2023-05-21T05:27:19.807711Z",
     "iopub.status.idle": "2023-05-21T05:27:19.815488Z",
     "shell.execute_reply": "2023-05-21T05:27:19.814447Z"
    },
    "jupyter": {
     "outputs_hidden": false
    },
    "papermill": {
     "duration": 0.085236,
     "end_time": "2023-05-21T05:27:19.817797",
     "exception": false,
     "start_time": "2023-05-21T05:27:19.732561",
     "status": "completed"
    },
    "tags": []
   },
   "outputs": [],
   "source": [
    "df_optimal_model_weights = {'model_name': [], 'weight': []}\n",
    "for i in range(len(model_predictions_on_validation['model_name'])):\n",
    "    df_optimal_model_weights['model_name'].append(model_predictions_on_validation['model_name'][i])\n",
    "    df_optimal_model_weights['weight'].append(optimal_model_weights[i])\n",
    "    print(f\"{optimal_model_weights[i]:.3f} {model_predictions_on_validation['model_name'][i]}\")\n",
    "df_optimal_model_weights = pd.DataFrame(df_optimal_model_weights)"
   ]
  },
  {
   "cell_type": "code",
   "execution_count": null,
   "id": "a13e7cca",
   "metadata": {
    "_kg_hide-input": true,
    "collapsed": false,
    "execution": {
     "iopub.execute_input": "2023-05-21T05:27:19.967278Z",
     "iopub.status.busy": "2023-05-21T05:27:19.966883Z",
     "iopub.status.idle": "2023-05-21T05:27:21.323773Z",
     "shell.execute_reply": "2023-05-21T05:27:21.322573Z"
    },
    "jupyter": {
     "outputs_hidden": false
    },
    "papermill": {
     "duration": 1.434582,
     "end_time": "2023-05-21T05:27:21.326332",
     "exception": false,
     "start_time": "2023-05-21T05:27:19.891750",
     "status": "completed"
    },
    "tags": []
   },
   "outputs": [],
   "source": [
    "performance_data = {'model_name': [], 'training_loss': [], 'og_data_excluded': []}\n",
    "def get_loss(pipelines, eval_sets_idx):\n",
    "    losses = []\n",
    "\n",
    "    for pipeline, eval_set in zip(pipelines, eval_sets_idx):\n",
    "        dev = df_train.iloc[eval_set[eval_set < 15281]]\n",
    "        X_dev = dev.drop('x_e_out', axis=1)\n",
    "        y_dev = dev['x_e_out']\n",
    "        prediction = pipeline.predict(X_dev)\n",
    "\n",
    "        loss = mean_absolute_error(y_dev, prediction)\n",
    "        losses.append(loss)\n",
    "\n",
    "    return np.array(losses).mean()\n",
    "\n",
    "for model_name in supported_models:\n",
    "    performance_data['model_name'].append(model_name)\n",
    "    performance_data['training_loss'].append(np.array(train_results[f'{model_name}_losses']).mean())\n",
    "    performance_data['og_data_excluded'].append(get_loss(train_results[f'{model_name}_pipelines'], train_results[f'{model_name}_eval_sets']))\n",
    "performance_data = pd.DataFrame(performance_data)"
   ]
  },
  {
   "cell_type": "code",
   "execution_count": null,
   "id": "989f5150",
   "metadata": {
    "_kg_hide-input": true,
    "collapsed": false,
    "execution": {
     "iopub.execute_input": "2023-05-21T05:27:21.474938Z",
     "iopub.status.busy": "2023-05-21T05:27:21.474554Z",
     "iopub.status.idle": "2023-05-21T05:27:21.853810Z",
     "shell.execute_reply": "2023-05-21T05:27:21.852702Z"
    },
    "jupyter": {
     "outputs_hidden": false
    },
    "papermill": {
     "duration": 0.457143,
     "end_time": "2023-05-21T05:27:21.856628",
     "exception": false,
     "start_time": "2023-05-21T05:27:21.399485",
     "status": "completed"
    },
    "tags": []
   },
   "outputs": [],
   "source": [
    "loss_eval_types: list[str] = ['training_loss', 'og_data_excluded']\n",
    "fig, axes = plt.subplots(nrows=len(loss_eval_types), ncols=1, figsize=(6, 10))\n",
    "axes = axes.flatten()\n",
    "\n",
    "palette = sns.color_palette(\"husl\", n_colors=len(performance_data))\n",
    "palette_reversed = palette[::-1]\n",
    "titles = ['Model performance on validation (training data + original data)',\n",
    "          'Model performance on validation (training data only)']\n",
    "\n",
    "for ax_index, loss_eval_type in enumerate(loss_eval_types):\n",
    "    performance_data.sort_values(loss_eval_type, ascending=True, inplace=True)\n",
    "    sns.barplot(x=loss_eval_type, y='model_name', data=performance_data, ax=axes[ax_index], palette=palette_reversed)\n",
    "    for i, v in enumerate(performance_data[loss_eval_type]):\n",
    "        axes[ax_index].text(v - 0.03, i, '{:.3f}'.format(v), color='black', fontweight='bold', ha='right', va='center')\n",
    "    axes[ax_index].set(ylabel=None)\n",
    "    axes[ax_index].set(xlabel=\"Mean MAE over 10 K-Folds\")\n",
    "    axes[ax_index].set_title(titles[ax_index])\n",
    "plt.show()"
   ]
  },
  {
   "cell_type": "code",
   "execution_count": null,
   "id": "5e16c165",
   "metadata": {
    "collapsed": false,
    "execution": {
     "iopub.execute_input": "2023-05-21T05:27:22.009697Z",
     "iopub.status.busy": "2023-05-21T05:27:22.008906Z",
     "iopub.status.idle": "2023-05-21T05:27:22.020960Z",
     "shell.execute_reply": "2023-05-21T05:27:22.020039Z"
    },
    "jupyter": {
     "outputs_hidden": false
    },
    "papermill": {
     "duration": 0.089799,
     "end_time": "2023-05-21T05:27:22.023039",
     "exception": false,
     "start_time": "2023-05-21T05:27:21.933240",
     "status": "completed"
    },
    "tags": []
   },
   "outputs": [],
   "source": [
    "performance_data"
   ]
  },
  {
   "cell_type": "code",
   "execution_count": null,
   "id": "ed098369",
   "metadata": {
    "_kg_hide-input": true,
    "collapsed": false,
    "execution": {
     "iopub.execute_input": "2023-05-21T05:27:22.173629Z",
     "iopub.status.busy": "2023-05-21T05:27:22.172881Z",
     "iopub.status.idle": "2023-05-21T05:27:22.304955Z",
     "shell.execute_reply": "2023-05-21T05:27:22.303894Z"
    },
    "jupyter": {
     "outputs_hidden": false
    },
    "papermill": {
     "duration": 0.209556,
     "end_time": "2023-05-21T05:27:22.307277",
     "exception": false,
     "start_time": "2023-05-21T05:27:22.097721",
     "status": "completed"
    },
    "tags": []
   },
   "outputs": [],
   "source": [
    "df_optimal_model_weights.sort_values('weight', ascending=True, inplace=True)\n",
    "ax = sns.barplot(x='weight', y='model_name', data=df_optimal_model_weights)\n",
    "ax.set_ylim(ax.get_ylim()[::-1])\n",
    "for i, v in enumerate(df_optimal_model_weights['weight']):\n",
    "    ax.text(v - 0.03, i, '{:.3f}'.format(v), color='black', fontweight='bold', ha='right', va='center')\n",
    "ax.set(ylabel=None)\n",
    "ax.set(xlabel=\"Normalized model ensemble weights\")\n",
    "ax.set_xlim([-0.1, None])\n",
    "ax.set_xticks([-0.1, 0, 0.1, 0.2, 0.3, 0.4])\n",
    "ax.set_xticklabels(['', 0, 0.1, 0.2, 0.3, 0.4])\n",
    "plt.axvline(x=0, color='g', linestyle='-')\n",
    "plt.show()"
   ]
  },
  {
   "cell_type": "markdown",
   "id": "04c7163b",
   "metadata": {
    "papermill": {
     "duration": 0.074385,
     "end_time": "2023-05-21T05:27:22.457945",
     "exception": false,
     "start_time": "2023-05-21T05:27:22.383560",
     "status": "completed"
    },
    "tags": []
   },
   "source": [
    "# Feature Importance"
   ]
  },
  {
   "cell_type": "code",
   "execution_count": null,
   "id": "53e7697e",
   "metadata": {
    "collapsed": false,
    "execution": {
     "iopub.execute_input": "2023-05-21T05:27:22.610319Z",
     "iopub.status.busy": "2023-05-21T05:27:22.609518Z",
     "iopub.status.idle": "2023-05-21T05:27:22.615079Z",
     "shell.execute_reply": "2023-05-21T05:27:22.614342Z"
    },
    "jupyter": {
     "outputs_hidden": false
    },
    "papermill": {
     "duration": 0.085666,
     "end_time": "2023-05-21T05:27:22.618240",
     "exception": false,
     "start_time": "2023-05-21T05:27:22.532574",
     "status": "completed"
    },
    "tags": []
   },
   "outputs": [],
   "source": [
    "def make_predictions(x):\n",
    "    prediction = 0\n",
    "\n",
    "    for model_id in range(len(supported_models)):\n",
    "        for pipeline in train_results[f'{supported_models[model_id]}_pipelines']:\n",
    "            prediction += np.array(pipeline.predict(x)).flatten() * optimal_model_weights[model_id]\n",
    "    prediction = prediction / 10.0\n",
    "    #model_name_to_use = 'XGBoost'\n",
    "    #for pipeline in train_results[f'{model_name_to_use}_pipelines']:\n",
    "    #    prediction += np.array(pipeline.predict(x)).flatten()\n",
    "    #prediction = prediction / float(len(train_results[f'{model_name_to_use}_pipelines']))\n",
    "\n",
    "    return prediction"
   ]
  },
  {
   "cell_type": "code",
   "execution_count": null,
   "id": "58c695c8",
   "metadata": {
    "_kg_hide-input": true,
    "collapsed": false,
    "execution": {
     "iopub.execute_input": "2023-05-21T05:27:22.774362Z",
     "iopub.status.busy": "2023-05-21T05:27:22.773958Z",
     "iopub.status.idle": "2023-05-21T05:27:23.244871Z",
     "shell.execute_reply": "2023-05-21T05:27:23.243805Z"
    },
    "jupyter": {
     "outputs_hidden": false
    },
    "papermill": {
     "duration": 0.549876,
     "end_time": "2023-05-21T05:27:23.246915",
     "exception": false,
     "start_time": "2023-05-21T05:27:22.697039",
     "status": "completed"
    },
    "tags": []
   },
   "outputs": [],
   "source": [
    "# Get feature importance\n",
    "importance = train_results['LightGBM_pipelines'][0].model.feature_importances_\n",
    "for i in range(1, len(train_results['LightGBM_pipelines'])):\n",
    "    importance += train_results['LightGBM_pipelines'][i].model.feature_importances_\n",
    "importance = importance / 5.0\n",
    "feature_names = df_train.drop('x_e_out', axis=1).columns.values\n",
    "\n",
    "# Create a dataframe of feature importance\n",
    "df_importance = pd.DataFrame({'feature': feature_names, 'importance': importance})\n",
    "# Sort features by importance\n",
    "df_importance = df_importance.sort_values('importance', ascending=False)\n",
    "\n",
    "# Create horizontal bar plot of feature importance\n",
    "sns.set_style(\"whitegrid\")\n",
    "plt.figure(figsize=(10, 8))\n",
    "palette = sns.color_palette(\"husl\", len(df_importance))\n",
    "palette.reverse()\n",
    "sns.barplot(x=\"importance\", y=\"feature\", data=df_importance, palette=palette)\n",
    "plt.title('Feature Importances')\n",
    "plt.xlabel('Importance')\n",
    "plt.ylabel('Feature')\n",
    "plt.show()"
   ]
  },
  {
   "cell_type": "code",
   "execution_count": null,
   "id": "93afa67b",
   "metadata": {
    "_kg_hide-input": true,
    "collapsed": false,
    "execution": {
     "iopub.execute_input": "2023-05-21T05:27:23.425279Z",
     "iopub.status.busy": "2023-05-21T05:27:23.424827Z",
     "iopub.status.idle": "2023-05-21T05:27:23.431756Z",
     "shell.execute_reply": "2023-05-21T05:27:23.430692Z"
    },
    "jupyter": {
     "outputs_hidden": false
    },
    "papermill": {
     "duration": 0.105573,
     "end_time": "2023-05-21T05:27:23.433835",
     "exception": false,
     "start_time": "2023-05-21T05:27:23.328262",
     "status": "completed"
    },
    "tags": []
   },
   "outputs": [],
   "source": [
    "def get_split_data(eval_sets_idx) -> tuple[pd.DataFrame, pd.DataFrame]:\n",
    "    df_all_data: pd.DataFrame = None\n",
    "    for eval_set in eval_sets_idx:\n",
    "        if df_all_data is None:\n",
    "            df_all_data = df_train.iloc[eval_set]\n",
    "        else:\n",
    "            df_all_data = pd.concat([df_all_data, df_train.iloc[eval_set]])\n",
    "\n",
    "    df_eval_given: pd.DataFrame = df_all_data[df_all_data.index < len(df_data)]\n",
    "    df_eval_original: pd.DataFrame = df_all_data[df_all_data.index >= len(df_data)]\n",
    "\n",
    "    return df_eval_given, df_eval_original"
   ]
  },
  {
   "cell_type": "code",
   "execution_count": null,
   "id": "c66564cb",
   "metadata": {
    "_kg_hide-input": true,
    "collapsed": false,
    "execution": {
     "iopub.execute_input": "2023-05-21T05:27:23.588828Z",
     "iopub.status.busy": "2023-05-21T05:27:23.588413Z",
     "iopub.status.idle": "2023-05-21T05:27:23.597930Z",
     "shell.execute_reply": "2023-05-21T05:27:23.596911Z"
    },
    "jupyter": {
     "outputs_hidden": false
    },
    "papermill": {
     "duration": 0.089723,
     "end_time": "2023-05-21T05:27:23.600355",
     "exception": false,
     "start_time": "2023-05-21T05:27:23.510632",
     "status": "completed"
    },
    "tags": []
   },
   "outputs": [],
   "source": [
    "def graph_predictions_vs_true() -> None:\n",
    "    # All model should have the exact same eval sets\n",
    "    df_eval_given, df_eval_original = get_split_data(train_results['LightGBM_eval_sets'])\n",
    "\n",
    "    graph_data = {\n",
    "        \"data\": [df_eval_given, df_eval_original],\n",
    "        \"name\": ['given', 'original']\n",
    "    }\n",
    "\n",
    "    for data, name in zip(graph_data['data'], graph_data['name']):\n",
    "        X = data.drop('x_e_out', axis=1)\n",
    "        y = data['x_e_out']\n",
    "        y_predicted = make_predictions(X)\n",
    "        data_to_graph = pd.DataFrame({\"Predicted\": y_predicted, \"True\": y})\n",
    "        sns.scatterplot(x='Predicted', y='True', label=f\"Belong to {name}\", data=data_to_graph)\n",
    "\n",
    "    plt.plot([0, 1], [0, 1], transform=plt.gca().transAxes, ls='--', c='red')\n",
    "    plt.title(\"True vs Predicted\")\n",
    "    plt.legend()"
   ]
  },
  {
   "cell_type": "code",
   "execution_count": null,
   "id": "68ba1db4",
   "metadata": {
    "_kg_hide-input": true,
    "collapsed": false,
    "execution": {
     "iopub.execute_input": "2023-05-21T05:27:23.754986Z",
     "iopub.status.busy": "2023-05-21T05:27:23.754618Z",
     "iopub.status.idle": "2023-05-21T05:27:41.686493Z",
     "shell.execute_reply": "2023-05-21T05:27:41.685455Z"
    },
    "jupyter": {
     "outputs_hidden": false
    },
    "papermill": {
     "duration": 18.013221,
     "end_time": "2023-05-21T05:27:41.689577",
     "exception": false,
     "start_time": "2023-05-21T05:27:23.676356",
     "status": "completed"
    },
    "tags": []
   },
   "outputs": [],
   "source": [
    "graph_predictions_vs_true()"
   ]
  },
  {
   "cell_type": "markdown",
   "id": "19a231be",
   "metadata": {
    "papermill": {
     "duration": 0.077792,
     "end_time": "2023-05-21T05:27:41.848870",
     "exception": false,
     "start_time": "2023-05-21T05:27:41.771078",
     "status": "completed"
    },
    "tags": []
   },
   "source": [
    "# Make predictions"
   ]
  },
  {
   "cell_type": "code",
   "execution_count": null,
   "id": "1147aeb6",
   "metadata": {
    "collapsed": false,
    "execution": {
     "iopub.execute_input": "2023-05-21T05:27:42.006093Z",
     "iopub.status.busy": "2023-05-21T05:27:42.005708Z",
     "iopub.status.idle": "2023-05-21T05:27:42.012068Z",
     "shell.execute_reply": "2023-05-21T05:27:42.011265Z"
    },
    "jupyter": {
     "outputs_hidden": false
    },
    "papermill": {
     "duration": 0.087503,
     "end_time": "2023-05-21T05:27:42.014127",
     "exception": false,
     "start_time": "2023-05-21T05:27:41.926624",
     "status": "completed"
    },
    "tags": []
   },
   "outputs": [],
   "source": [
    "df_test = df_test.drop('x_e_out', axis=1)"
   ]
  },
  {
   "cell_type": "code",
   "execution_count": null,
   "id": "788143fb",
   "metadata": {
    "collapsed": false,
    "execution": {
     "iopub.execute_input": "2023-05-21T05:27:42.172917Z",
     "iopub.status.busy": "2023-05-21T05:27:42.172549Z",
     "iopub.status.idle": "2023-05-21T05:27:50.036048Z",
     "shell.execute_reply": "2023-05-21T05:27:50.035253Z"
    },
    "jupyter": {
     "outputs_hidden": false
    },
    "papermill": {
     "duration": 7.944821,
     "end_time": "2023-05-21T05:27:50.038362",
     "exception": false,
     "start_time": "2023-05-21T05:27:42.093541",
     "status": "completed"
    },
    "tags": []
   },
   "outputs": [],
   "source": [
    "predictions = make_predictions(df_test)"
   ]
  },
  {
   "cell_type": "code",
   "execution_count": null,
   "id": "f0b1f939",
   "metadata": {
    "collapsed": false,
    "execution": {
     "iopub.execute_input": "2023-05-21T05:27:50.198245Z",
     "iopub.status.busy": "2023-05-21T05:27:50.197529Z",
     "iopub.status.idle": "2023-05-21T05:27:50.202344Z",
     "shell.execute_reply": "2023-05-21T05:27:50.201595Z"
    },
    "jupyter": {
     "outputs_hidden": false
    },
    "papermill": {
     "duration": 0.086828,
     "end_time": "2023-05-21T05:27:50.204430",
     "exception": false,
     "start_time": "2023-05-21T05:27:50.117602",
     "status": "completed"
    },
    "tags": []
   },
   "outputs": [],
   "source": [
    "df_test['x_e_out [-]'] = predictions"
   ]
  },
  {
   "cell_type": "code",
   "execution_count": null,
   "id": "ec0736b4",
   "metadata": {
    "collapsed": false,
    "execution": {
     "iopub.execute_input": "2023-05-21T05:27:50.361894Z",
     "iopub.status.busy": "2023-05-21T05:27:50.361262Z",
     "iopub.status.idle": "2023-05-21T05:27:50.402787Z",
     "shell.execute_reply": "2023-05-21T05:27:50.401724Z"
    },
    "jupyter": {
     "outputs_hidden": false
    },
    "papermill": {
     "duration": 0.123119,
     "end_time": "2023-05-21T05:27:50.405131",
     "exception": false,
     "start_time": "2023-05-21T05:27:50.282012",
     "status": "completed"
    },
    "tags": []
   },
   "outputs": [],
   "source": [
    "df_test['x_e_out [-]'].to_csv(\"submission.csv\", index=True, index_label='id')"
   ]
  },
  {
   "cell_type": "code",
   "execution_count": null,
   "id": "b3a5f1e3",
   "metadata": {
    "collapsed": false,
    "jupyter": {
     "outputs_hidden": false
    },
    "papermill": {
     "duration": 0.077372,
     "end_time": "2023-05-21T05:27:50.560758",
     "exception": false,
     "start_time": "2023-05-21T05:27:50.483386",
     "status": "completed"
    },
    "tags": []
   },
   "outputs": [],
   "source": []
  }
 ],
 "metadata": {
  "kernelspec": {
   "display_name": "Python 3",
   "language": "python",
   "name": "python3"
  },
  "language_info": {
   "codemirror_mode": {
    "name": "ipython",
    "version": 3
   },
   "file_extension": ".py",
   "mimetype": "text/x-python",
   "name": "python",
   "nbconvert_exporter": "python",
   "pygments_lexer": "ipython3",
   "version": "3.10.10"
  },
  "papermill": {
   "default_parameters": {},
   "duration": 8442.099032,
   "end_time": "2023-05-21T05:27:52.780592",
   "environment_variables": {},
   "exception": null,
   "input_path": "__notebook__.ipynb",
   "output_path": "__notebook__.ipynb",
   "parameters": {},
   "start_time": "2023-05-21T03:07:10.681560",
   "version": "2.4.0"
  }
 },
 "nbformat": 4,
 "nbformat_minor": 5
}
